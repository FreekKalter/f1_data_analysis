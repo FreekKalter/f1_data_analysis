{
 "cells": [
  {
   "cell_type": "code",
   "execution_count": null,
   "metadata": {},
   "outputs": [],
   "source": [
    "%%html\n",
    "<script>\n",
    "    // AUTORUN ALL CELLS ON NOTEBOOK-LOAD!\n",
    "    require(\n",
    "        ['base/js/namespace', 'jquery'], \n",
    "        function(jupyter, $) {\n",
    "            $(jupyter.events).on(\"kernel_ready.Kernel\", function () {\n",
    "                console.log(\"Auto-running all cells-below...\");\n",
    "                jupyter.actions.call('jupyter-notebook:run-all-cells-below');\n",
    "                jupyter.actions.call('jupyter-notebook:save-notebook');\n",
    "            });\n",
    "        }\n",
    "    );\n",
    "</script>"
   ]
  },
  {
   "cell_type": "code",
   "execution_count": null,
   "metadata": {},
   "outputs": [],
   "source": [
    "import pandas as pd\n",
    "import matplotlib.pyplot as plt\n",
    "%matplotlib inline\n",
    "pd.set_option('display.max_columns', None)\n",
    "plt.rcParams['figure.figsize'] = (15, 5)\n",
    "# Load a sort of library file with csv column names, shared with script that preps csv files for import\n",
    "import os\n",
    "import sys\n",
    "module_path = os.path.abspath(os.path.join('..'))\n",
    "if module_path not in sys.path:\n",
    "    sys.path.append(module_path)\n",
    "\n",
    "import prepcsv.lib.prepcsv as prepcsv\n",
    "csv_columns = prepcsv.file_columns\n",
    "print(csv_columns.keys())\n",
    "\n",
    "df = {}\n",
    "for filename, column_names in csv_columns.items():\n",
    "    cols = [c for c in csv_columns[filename] if c != 'url']\n",
    "    df[filename] = pd.read_csv(f'./f1db_csv/{filename}.csv', usecols=cols)"
   ]
  },
  {
   "cell_type": "code",
   "execution_count": null,
   "metadata": {},
   "outputs": [],
   "source": [
    "# Merge dataset to get all the data in a couple of usefull (but big) dataframes\n",
    "\n",
    "def join_datasets(left, right, on):\n",
    "    return df[left].join(df[right].set_index(on), on=on, rsuffix=f'_{right}')\n",
    "df['RaCi']         = join_datasets('races', 'circuits', 'circuitId')\n",
    "df['ReDr']         = join_datasets('results', 'driver', 'driverId') \n",
    "df['ReDrCo']       = join_datasets('ReDr', 'constructors', 'constructorId')\n",
    "df['ReDrCoRaCi']   = join_datasets('ReDrCo', 'RaCi', 'raceId')\n",
    "df['ReDrCoRaCiSt'] = join_datasets('ReDrCoRaCi', 'status', 'statusId')\n",
    "df['StDr']         = join_datasets('driver_standings', 'driver', 'driverId')\n",
    "df['StDrRa']       = join_datasets('StDr', 'races', 'raceId')\n",
    "big_results = df['ReDrCoRaCiSt']\n",
    "big_results"
   ]
  },
  {
   "cell_type": "markdown",
   "metadata": {},
   "source": [
    "## Print how many victorys, and the list of victories"
   ]
  },
  {
   "cell_type": "code",
   "execution_count": null,
   "metadata": {},
   "outputs": [],
   "source": [
    "def wins_of_driver(driver):\n",
    "    res = big_results[(big_results['driverRef'] == driver) & (big_results['position'] == '1')]\n",
    "    print(len(res))\n",
    "    print(res[['year','circuitName']])\n",
    "wins_of_driver('max_verstappen')"
   ]
  },
  {
   "cell_type": "markdown",
   "metadata": {},
   "source": [
    "## Plot the number of races per season"
   ]
  },
  {
   "cell_type": "code",
   "execution_count": null,
   "metadata": {},
   "outputs": [],
   "source": [
    "season_lengths = { year : len(df['races'][df['races']['year'] == year]) for year in range(1950, 2021)}\n",
    "ts = pd.Series(season_lengths)\n",
    "p = ts.plot(kind='bar', figsize=(20,5))\n",
    "plt.show()"
   ]
  },
  {
   "cell_type": "markdown",
   "metadata": {},
   "source": [
    "## Number of race wins per driver"
   ]
  },
  {
   "cell_type": "code",
   "execution_count": null,
   "metadata": {},
   "outputs": [],
   "source": [
    "# winning_drivers = df_results_drivers_races_constructors[df_results_drivers['position'] == '1']\n",
    "winning_drivers = big_results[big_results['position'] == '1']\n",
    "win_counts = winning_drivers['driverRef'].value_counts()\n",
    "win_counts[:20].plot(kind=\"bar\", figsize=(20,10))\n",
    "plt.show()\n",
    "win_counts[:20]"
   ]
  },
  {
   "cell_type": "code",
   "execution_count": null,
   "metadata": {},
   "outputs": [],
   "source": [
    "def when_champion(year):\n",
    "    season_length = len(df['races'][df['races']['year'] == year])\n",
    "    standings = df['StDrRa']\n",
    "    season_races = pd.Series(df['ReDrCoRaCi'][df['ReDrCoRaCi']['year'] == year]['raceId'])\n",
    "    season_standings = standings[standings['raceId'].isin(season_races)]\n",
    "    points_for_winning = df['ReDrCoRaCi'][df['ReDrCoRaCi']['raceId'].isin(season_races)]['points'].max()\n",
    "    for roundNumber in range(1,season_length+1):\n",
    "        r = season_standings[season_standings['round'] == roundNumber]\n",
    "        leader = r[r['position'] == 1]\n",
    "        runnerup = r[r['position'] == 2]\n",
    "        rounds_left = season_length - roundNumber\n",
    "        if (rounds_left * points_for_winning) < leader.iloc[0]['points'] - runnerup.iloc[0]['points']:\n",
    "            return (roundNumber, season_length)\n",
    "when_champion(2016)"
   ]
  },
  {
   "cell_type": "markdown",
   "metadata": {},
   "source": [
    "## List every seasons champion"
   ]
  },
  {
   "cell_type": "code",
   "execution_count": null,
   "metadata": {},
   "outputs": [],
   "source": [
    "season_lengths = { year : len(df['races'][df['races']['year'] == year]) for year in range(1950, 2021)}\n",
    "standings = df['StDrRa']\n",
    "champs = {}\n",
    "for year in range(1950, 2019):\n",
    "    season_races = pd.Series(df['races'][df['races']['year'] == year]['raceId'])\n",
    "    season_standings = standings[standings['raceId'].isin(season_races)]\n",
    "    last_round = season_standings[season_standings['round'] == season_lengths[year]]\n",
    "    champion = last_round[last_round['position'] == 1]\n",
    "    when = when_champion(year)\n",
    "    percentage = when[0]/(when[1]/100)\n",
    "    champs[year] =  champion.iloc[0]['driverRef']\n",
    "    print('{}: {} {} {} {:.1f}'.format(champion.iloc[0]['year'], \n",
    "                                champion.iloc[0]['forename'], \n",
    "                                champion.iloc[0]['surname'],\n",
    "                                when,\n",
    "                                percentage))"
   ]
  },
  {
   "cell_type": "markdown",
   "metadata": {},
   "source": [
    "## Plot season lenght vs when the champion was known"
   ]
  },
  {
   "cell_type": "code",
   "execution_count": null,
   "metadata": {},
   "outputs": [],
   "source": [
    "season_lengths = { year : len(df['races'][df['races']['year'] == year]) for year in range(1950, 2021)}\n",
    "season_stacked = {}\n",
    "for year in range(1950, 2018):\n",
    "    season_stacked[year] = when_champion(year)\n",
    "\n",
    "rows = zip(season_lengths.keys(), \n",
    "           [v[0] for v in season_stacked.values()],\n",
    "           [v[1] for v in season_stacked.values()])\n",
    "headers = ['year', 'champion_known', 'season_length']\n",
    "stacked = pd.DataFrame(rows, columns=headers).set_index('year')[20:]\n",
    "\n",
    "stacked.plot(kind='bar', figsize=(20,10))"
   ]
  },
  {
   "cell_type": "markdown",
   "metadata": {},
   "source": [
    "## Dnf percentage per driver"
   ]
  },
  {
   "cell_type": "code",
   "execution_count": null,
   "metadata": {},
   "outputs": [],
   "source": [
    "br = big_results\n",
    "# print(br.columns)\n",
    "twenty_nineteen_drivers = br[(br['year'] == 2019) & (br['round'] == 2)]\n",
    "driver_stats = {}\n",
    "for i in range(len(twenty_nineteen_drivers)):\n",
    "    driverId = twenty_nineteen_drivers.iloc[i]['driverId']\n",
    "    all_races = br[br.driverId == driverId]\n",
    "    finished = all_races[(all_races.status.str.contains('^\\+')) | (all_races.status.str.contains('Finished'))]\n",
    "    percentage = len(finished)/(len(all_races)/100)\n",
    "    print('{} - {} {}: {:.1f}%'.format(twenty_nineteen_drivers.iloc[i]['teamName'],\n",
    "                                  twenty_nineteen_drivers.iloc[i]['forename'],\n",
    "                                  twenty_nineteen_drivers.iloc[i]['surname'],\n",
    "                                  percentage))\n",
    "    driver_stats[twenty_nineteen_drivers.iloc[i]['driverRef']] = percentage\n",
    "pd.Series(driver_stats).plot(kind='bar')    "
   ]
  },
  {
   "cell_type": "markdown",
   "metadata": {},
   "source": [
    "## Circuits a driver has never won"
   ]
  },
  {
   "cell_type": "code",
   "execution_count": null,
   "metadata": {},
   "outputs": [],
   "source": [
    "won = br[(br['driverRef'] == 'hamilton') & (br['position'] == '1')]\n",
    "circuits_won = set([race for race in won['circuitName']])\n",
    "races_2019 = df['RaCi'][df['RaCi']['year'] == 2019]\n",
    "for circuit in races_2019['circuitName']:\n",
    "    if circuit not in circuits_won:\n",
    "        print(circuit)"
   ]
  },
  {
   "cell_type": "markdown",
   "metadata": {},
   "source": [
    "## Lap times over the years per circuit (in progress)"
   ]
  },
  {
   "cell_type": "code",
   "execution_count": null,
   "metadata": {},
   "outputs": [],
   "source": [
    "qualy = df['qualifying']\n",
    "fastest_laps = qualy[qualy['position'] == 1]\n",
    "fastest_laps[:20]"
   ]
  },
  {
   "cell_type": "markdown",
   "metadata": {},
   "source": [
    "## Print the circuits a driver has won and the years he has done it"
   ]
  },
  {
   "cell_type": "code",
   "execution_count": null,
   "metadata": {},
   "outputs": [],
   "source": [
    "driverRef = 'hamilton'\n",
    "winning_races = br[(br['position'] == '1') & (br['driverRef'] == driverRef)]\n",
    "winning_years = {}\n",
    "for index, race in winning_races.iterrows():\n",
    "    r = ''\n",
    "    try:\n",
    "        if champs[race['year']] == driverRef:\n",
    "            r = str(race['year']) + '*'\n",
    "        else:\n",
    "            r = str(race['year']) + ' '\n",
    "    except KeyError:\n",
    "        continue\n",
    "    try:\n",
    "        winning_years[race['circuitName']].append(r)\n",
    "    except KeyError:\n",
    "        winning_years[race['circuitName']] = [r]\n",
    "sorted_keys = sorted(winning_years, key=lambda k: len(winning_years[k]), reverse=True)\n",
    "for race in sorted_keys:\n",
    "    padding = 26 - len(race)\n",
    "    print('{}:{}{}'.format(race, ' '*padding, ', '.join(winning_years[race]))) "
   ]
  },
  {
   "cell_type": "markdown",
   "metadata": {},
   "source": [
    "## Same as above, different representation"
   ]
  },
  {
   "cell_type": "code",
   "execution_count": null,
   "metadata": {},
   "outputs": [],
   "source": [
    "driverRef = 'hamilton'\n",
    "winning_races = br[(br['position'] == '1') & (br['driverRef'] == driverRef)]\n",
    "winning_years = {}\n",
    "for index, race in winning_races.iterrows():\n",
    "    r = ''\n",
    "    try:\n",
    "        if champs[race['year']] == driverRef:\n",
    "            r = str(race['year']) + 'C'\n",
    "        else:\n",
    "            r = str(race['year']) + ' '\n",
    "    except KeyError:\n",
    "        r = str(race['year']) + ' ' \n",
    "    try:\n",
    "        winning_years[race['circuitName']].append(r)\n",
    "    except KeyError:\n",
    "        winning_years[race['circuitName']] = [r]\n",
    "from more_itertools import flatten\n",
    "years = sorted(set(flatten(winning_years.values())))\n",
    "print('{} | {}  (C=champion)'.format(26*' ', '| '.join([y[2:] for y in years])))\n",
    "sorted_keys = sorted(winning_years) #, key=lambda k: len(winning_years[k]), reverse=True)\n",
    "for race in sorted_keys:\n",
    "    padding = 26 - len(race)\n",
    "    s = '{}:{}'.format(race, ' '*padding)\n",
    "    for y in years:\n",
    "        if y in winning_years[race]:\n",
    "            s += '| *  '\n",
    "        else:\n",
    "            s += '|    '    \n",
    "    print(s)"
   ]
  },
  {
   "cell_type": "code",
   "execution_count": null,
   "metadata": {},
   "outputs": [],
   "source": []
  }
 ],
 "metadata": {
  "kernelspec": {
   "display_name": "Python 3",
   "language": "python",
   "name": "python3"
  },
  "language_info": {
   "codemirror_mode": {
    "name": "ipython",
    "version": 3
   },
   "file_extension": ".py",
   "mimetype": "text/x-python",
   "name": "python",
   "nbconvert_exporter": "python",
   "pygments_lexer": "ipython3",
   "version": "3.6.7"
  }
 },
 "nbformat": 4,
 "nbformat_minor": 2
}
